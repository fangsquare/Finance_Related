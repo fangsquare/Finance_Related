{
 "cells": [
  {
   "cell_type": "code",
   "execution_count": 9,
   "metadata": {},
   "outputs": [
    {
     "data": {
      "text/html": "<div>\n<style scoped>\n    .dataframe tbody tr th:only-of-type {\n        vertical-align: middle;\n    }\n\n    .dataframe tbody tr th {\n        vertical-align: top;\n    }\n\n    .dataframe thead th {\n        text-align: right;\n    }\n</style>\n<table border=\"1\" class=\"dataframe\">\n  <thead>\n    <tr style=\"text-align: right;\">\n      <th></th>\n      <th>u</th>\n      <th>d</th>\n      <th>p</th>\n    </tr>\n  </thead>\n  <tbody>\n    <tr>\n      <th>Δt = 1/12</th>\n      <td>1.090463</td>\n      <td>0.917042</td>\n      <td>0.502439</td>\n    </tr>\n    <tr>\n      <th>Δt = 1/52</th>\n      <td>1.042480</td>\n      <td>0.959251</td>\n      <td>0.501159</td>\n    </tr>\n    <tr>\n      <th>Δt = 1/252</th>\n      <td>1.019078</td>\n      <td>0.981279</td>\n      <td>0.500525</td>\n    </tr>\n  </tbody>\n</table>\n</div>",
      "text/plain": "                   u         d         p\nΔt = 1/12   1.090463  0.917042  0.502439\nΔt = 1/52   1.042480  0.959251  0.501159\nΔt = 1/252  1.019078  0.981279  0.500525"
     },
     "execution_count": 9,
     "metadata": {},
     "output_type": "execute_result"
    }
   ],
   "source": [
    "#(a)\n",
    "import numpy as np\n",
    "import pandas as pd\n",
    "def step_size(t,nt):\n",
    "    T = t\n",
    "    NT = nt\n",
    "    sigma = 0.3\n",
    "    r = 0.05\n",
    "    dt = T/NT\n",
    "    u = np.exp(sigma * np.sqrt(dt))\n",
    "    d = np.exp(-sigma * np.sqrt(dt))\n",
    "    p = (np.exp(r*dt) - d) / (u - d)\n",
    "    return u,d,p\n",
    "\n",
    "a = [step_size(2,24),step_size(2,104),step_size(2,504)]\n",
    "ans1 = pd.DataFrame(a, index = ['Δt = 1/12','Δt = 1/52','Δt = 1/252'],columns = ['u', 'd', 'p'])\n",
    "ans1\n",
    "\n"
   ]
  },
  {
   "cell_type": "code",
   "execution_count": 10,
   "metadata": {},
   "outputs": [
    {
     "data": {
      "text/html": "<div>\n<style scoped>\n    .dataframe tbody tr th:only-of-type {\n        vertical-align: middle;\n    }\n\n    .dataframe tbody tr th {\n        vertical-align: top;\n    }\n\n    .dataframe thead th {\n        text-align: right;\n    }\n</style>\n<table border=\"1\" class=\"dataframe\">\n  <thead>\n    <tr style=\"text-align: right;\">\n      <th></th>\n      <th>European Put</th>\n    </tr>\n  </thead>\n  <tbody>\n    <tr>\n      <th>Δt = 1/12</th>\n      <td>6.787399</td>\n    </tr>\n    <tr>\n      <th>Δt = 1/52</th>\n      <td>6.777474</td>\n    </tr>\n    <tr>\n      <th>Δt = 1/252</th>\n      <td>6.757001</td>\n    </tr>\n  </tbody>\n</table>\n</div>",
      "text/plain": "            European Put\nΔt = 1/12       6.787399\nΔt = 1/52       6.777474\nΔt = 1/252      6.757001"
     },
     "execution_count": 10,
     "metadata": {},
     "output_type": "execute_result"
    }
   ],
   "source": [
    "#(b)\n",
    "import math\n",
    "S0  = 50\n",
    "sigma = 0.3\n",
    "K = 52\n",
    "r = 0.05\n",
    "T = 2\n",
    "def combos(n, i):\n",
    "    return math.factorial(n) / (math.factorial(n-i)*math.factorial(i))\n",
    "    \n",
    "def binomial_EU(S0, K , T, r, sigma, NT, type_ = 'put'):\n",
    "    dt = T/NT\n",
    "    u = np.exp(sigma * np.sqrt(dt))\n",
    "    d = np.exp(-sigma * np.sqrt(dt))\n",
    "    p = (np.exp(r*dt) - d) / (u - d)\n",
    "    value = 0 \n",
    "    for i in range(NT+1):\n",
    "        node_prob = combos(NT, i)*p**i*(1-p)**(NT-i)\n",
    "        ST = S0*(u)**i*(d)**(NT-i)\n",
    "        if type_ == 'call':\n",
    "            value += max(ST-K,0) * node_prob\n",
    "        elif type_ == 'put':\n",
    "            value += max(K-ST, 0) * node_prob\n",
    "        else:\n",
    "            raise ValueError(\"type_ must be 'call' or 'put'\" )\n",
    "    return value*np.exp(-r*T)\n",
    "\n",
    "b = [binomial_EU(S0, K , T, r, sigma, 24, type_ = 'put'),binomial_EU(S0, K , T, r, sigma, 104, type_ = 'put'),binomial_EU(S0, K , T, r, sigma, 504, type_ = 'put')]\n",
    "ans2 = pd.DataFrame(b, index = ['Δt = 1/12','Δt = 1/52','Δt = 1/252'],columns = ['European Put'])\n",
    "ans2\n"
   ]
  },
  {
   "cell_type": "code",
   "execution_count": 11,
   "metadata": {},
   "outputs": [
    {
     "data": {
      "image/png": "[encoded data removed]",
      "text/plain": "<Figure size 432x288 with 1 Axes>"
     },
     "metadata": {
      "needs_background": "light"
     },
     "output_type": "display_data"
    }
   ],
   "source": [
    "#(c)\n",
    "import matplotlib.pyplot as plt\n",
    "BT = []\n",
    "BS = []\n",
    "for i in range(1,253,1):\n",
    "    BT.append(binomial_EU(S0, K , 2, r, sigma, i*2, type_ = 'put'))\n",
    "for i in range(1,253,1):\n",
    "    BS.append(6.7601)\n",
    "x = np.arange(1,253)\n",
    "y1 = BS\n",
    "y2 = BT\n",
    "plt.plot(x, y1, x, y2)\n",
    "plt.title(\"Comparison with B/S Model\")\n",
    "plt.xlabel(\"Delta T\")\n",
    "plt.ylabel(\"Put Value\")\n",
    "plt.gca().legend(('B/S Value','Binomial Value'))\n",
    "plt.show() "
   ]
  },
  {
   "cell_type": "code",
   "execution_count": 12,
   "metadata": {},
   "outputs": [
    {
     "data": {
      "text/html": "<div>\n<style scoped>\n    .dataframe tbody tr th:only-of-type {\n        vertical-align: middle;\n    }\n\n    .dataframe tbody tr th {\n        vertical-align: top;\n    }\n\n    .dataframe thead th {\n        text-align: right;\n    }\n</style>\n<table border=\"1\" class=\"dataframe\">\n  <thead>\n    <tr style=\"text-align: right;\">\n      <th></th>\n      <th>American Put</th>\n    </tr>\n  </thead>\n  <tbody>\n    <tr>\n      <th>Δt = 1/12</th>\n      <td>7.507540</td>\n    </tr>\n    <tr>\n      <th>Δt = 1/52</th>\n      <td>7.485586</td>\n    </tr>\n    <tr>\n      <th>Δt = 1/252</th>\n      <td>7.471032</td>\n    </tr>\n  </tbody>\n</table>\n</div>",
      "text/plain": "            American Put\nΔt = 1/12       7.507540\nΔt = 1/52       7.485586\nΔt = 1/252      7.471032"
     },
     "execution_count": 12,
     "metadata": {},
     "output_type": "execute_result"
    }
   ],
   "source": [
    "#(d)\n",
    "import math\n",
    "S0  = 50\n",
    "sigma = 0.3\n",
    "K = 52\n",
    "r = 0.05\n",
    "T = 2\n",
    "    \n",
    "def binomial_American(S0, K , T, r, sigma, NT, type_ = 'put'):\n",
    "    dt = T/NT\n",
    "    u = np.exp(sigma * np.sqrt(dt))\n",
    "    d = np.exp(-sigma * np.sqrt(dt))\n",
    "    p = (np.exp(r*dt) - d) / (u - d)\n",
    "    disc = np.exp(-r*dt)\n",
    "    \n",
    "    # initialise stock prices at maturity\n",
    "    S = np.zeros(NT+1)\n",
    "    for j in range(0, NT+1):\n",
    "        S[j] = S0 * u**j * d**(NT -j)\n",
    "        \n",
    "    # option payoff \n",
    "    C = np.zeros(NT+1)\n",
    "    for j in range(0, NT+1):\n",
    "        if type_ == 'put':\n",
    "            C[j] = max(0, K - S[j])\n",
    "        else:\n",
    "            C[j] = max(0, S[j] - K)\n",
    "    \n",
    "    # backward recursion through the tree\n",
    "    for i in np.arange(NT-1,-1,-1):\n",
    "        for j in range(0,i+1):\n",
    "            S = S0 * u**j * d**(i-j)\n",
    "            C[j] = disc * ( p*C[j+1] + (1-p)*C[j] )\n",
    "            if type_ == 'put':\n",
    "                C[j] = max(C[j], K - S)\n",
    "            else:\n",
    "                C[j] = max(C[j], S - K)    \n",
    "    \n",
    "    return C[0]\n",
    "\n",
    "\n",
    "b = [binomial_American(S0, K , T, r, sigma, 24, type_ = 'put'),binomial_American(S0, K , T, r, sigma, 104, type_ = 'put'),binomial_American(S0, K , T, r, sigma, 504, type_ = 'put')]\n",
    "ans3 = pd.DataFrame(b, index = ['Δt = 1/12','Δt = 1/52','Δt = 1/252'],columns = ['American Put'])\n",
    "ans3"
   ]
  },
  {
   "cell_type": "code",
   "execution_count": 13,
   "metadata": {},
   "outputs": [
    {
     "data": {
      "text/plain": "<matplotlib.legend.Legend at 0x7fc70131adf0>"
     },
     "execution_count": 13,
     "metadata": {},
     "output_type": "execute_result"
    },
    {
     "data": {
      "image/png": "[encoded data removed]",
      "text/plain": "<Figure size 432x288 with 1 Axes>"
     },
     "metadata": {
      "needs_background": "light"
     },
     "output_type": "display_data"
    }
   ],
   "source": [
    "def Distribution(NT):\n",
    "    S0 = 50\n",
    "    sigma = 0.3\n",
    "    K = 52\n",
    "    r = 0.05\n",
    "    T = 2\n",
    "    dt = T/NT\n",
    "    u = np.exp(sigma * np.sqrt(dt))\n",
    "    d = np.exp(-sigma * np.sqrt(dt))\n",
    "    p = (np.exp(r*dt) - d) / (u - d)\n",
    "    np.random.seed(0)\n",
    "\n",
    "    ST = np.zeros(NT+1)\n",
    "    Prob = np.zeros(NT+1)\n",
    "\n",
    "    for j in range(0,NT+1):\n",
    "        ST[j]= S0*(u)**j*(d)**(NT-j)\n",
    "        Prob[j]=(math.comb(NT,j))*(p**j)*((1-p)**(NT-j))\n",
    "    plt.title(\"Time Steps Comparison\")\n",
    "    plt.plot(ST,Prob,'-o')\n",
    "    plt.xlabel(\"$S_T$\")\n",
    "    plt.ylabel(\"Probability\")\n",
    "    plt.xlim(0,400)\n",
    "\n",
    "Distribution(6)\n",
    "Distribution(12)\n",
    "Distribution(52)\n",
    "plt.gca().legend(('N = 6','N = 12','N = 52'))"
   ]
  },
  {
   "cell_type": "code",
   "execution_count": 14,
   "metadata": {},
   "outputs": [
    {
     "data": {
      "text/html": "<div>\n<style scoped>\n    .dataframe tbody tr th:only-of-type {\n        vertical-align: middle;\n    }\n\n    .dataframe tbody tr th {\n        vertical-align: top;\n    }\n\n    .dataframe thead th {\n        text-align: right;\n    }\n</style>\n<table border=\"1\" class=\"dataframe\">\n  <thead>\n    <tr style=\"text-align: right;\">\n      <th></th>\n      <th>u</th>\n      <th>d</th>\n      <th>p</th>\n      <th>European Put</th>\n      <th>American Put</th>\n    </tr>\n  </thead>\n  <tbody>\n    <tr>\n      <th>Δt = 1/12</th>\n      <td>1.090463</td>\n      <td>0.917042</td>\n      <td>0.502439</td>\n      <td>6.787399</td>\n      <td>7.507540</td>\n    </tr>\n    <tr>\n      <th>Δt = 1/52</th>\n      <td>1.042480</td>\n      <td>0.959251</td>\n      <td>0.501159</td>\n      <td>6.777474</td>\n      <td>7.485586</td>\n    </tr>\n    <tr>\n      <th>Δt = 1/252</th>\n      <td>1.019078</td>\n      <td>0.981279</td>\n      <td>0.500525</td>\n      <td>6.757001</td>\n      <td>7.471032</td>\n    </tr>\n  </tbody>\n</table>\n</div>",
      "text/plain": "                   u         d         p  European Put  American Put\nΔt = 1/12   1.090463  0.917042  0.502439      6.787399      7.507540\nΔt = 1/52   1.042480  0.959251  0.501159      6.777474      7.485586\nΔt = 1/252  1.019078  0.981279  0.500525      6.757001      7.471032"
     },
     "execution_count": 14,
     "metadata": {},
     "output_type": "execute_result"
    }
   ],
   "source": [
    "Final = ans1.copy()\n",
    "Final['European Put'] = ans2['European Put']\n",
    "Final['American Put'] = ans3['American Put']\n",
    "Final"
   ]
  }
 ],
 "metadata": {
  "kernelspec": {
   "display_name": "Python 3.9.1 64-bit",
   "metadata": {
    "interpreter": {
     "hash": "aee8b7b246df8f9039afb4144a1f6fd8d2ca17a180786b69acc140d282b71a49"
    }
   },
   "name": "python3"
  },
  "language_info": {
   "codemirror_mode": {
    "name": "ipython",
    "version": 3
   },
   "file_extension": ".py",
   "mimetype": "text/x-python",
   "name": "python",
   "nbconvert_exporter": "python",
   "pygments_lexer": "ipython3",
   "version": "3.9.1"
  },
  "orig_nbformat": 2
 },
 "nbformat": 4,
 "nbformat_minor": 2
}